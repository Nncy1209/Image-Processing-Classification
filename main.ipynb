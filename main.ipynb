{
 "cells": [
  {
   "cell_type": "code",
   "execution_count": 1,
   "id": "d6d64d4d",
   "metadata": {},
   "outputs": [],
   "source": [
    "import os\n",
    "import cv2\n",
    "import numpy as np\n",
    "import pickle\n",
    "from sklearn.model_selection import train_test_split\n",
    "from sklearn.svm import SVC\n",
    "import streamlit as st\n",
    "from PIL import Image\n",
    "import io"
   ]
  },
  {
   "cell_type": "code",
   "execution_count": 3,
   "id": "5b0e7e08",
   "metadata": {},
   "outputs": [],
   "source": [
    "\n",
    "# ---------- Load Data ----------\n",
    "def load_data(data_dir=\"data\", img_size=(64, 64)):\n",
    "    X, y, classes = [], [], []\n",
    "    if not os.path.exists(data_dir):\n",
    "        return np.array([]), np.array([]), []\n",
    "\n",
    "    classes = sorted([d for d in os.listdir(data_dir) if os.path.isdir(os.path.join(data_dir, d))])\n",
    "    for label, class_name in enumerate(classes):\n",
    "        for img_name in os.listdir(os.path.join(data_dir, class_name)):\n",
    "            img_path = os.path.join(data_dir, class_name, img_name)\n",
    "            img = cv2.imread(img_path, cv2.IMREAD_GRAYSCALE)\n",
    "            if img is None: \n",
    "                continue\n",
    "            img = cv2.resize(img, img_size).astype(\"float32\") / 255.0\n",
    "            X.append(img.flatten()); y.append(label)\n",
    "    return np.array(X), np.array(y), classes\n"
   ]
  },
  {
   "cell_type": "code",
   "execution_count": 4,
   "id": "fa815b1d",
   "metadata": {},
   "outputs": [
    {
     "name": "stdout",
     "output_type": "stream",
     "text": [
      "✅ Model trained and saved! Accuracy: 0.35\n"
     ]
    }
   ],
   "source": [
    "\n",
    "# ---------- Train & Save Model ----------\n",
    "X, y, class_names = load_data()\n",
    "if len(X) > 0:\n",
    "    X_train, X_test, y_train, y_test = train_test_split(X, y, test_size=0.2, stratify=y, random_state=42)\n",
    "    model = SVC(kernel=\"linear\", probability=True).fit(X_train, y_train)\n",
    "\n",
    "    with open(\"image_model.pkl\", \"wb\") as f:\n",
    "        pickle.dump((model, class_names), f)\n",
    "\n",
    "    accuracy = model.score(X_test, y_test)\n",
    "    with open(\"accuracy.pkl\", \"wb\") as f:\n",
    "        pickle.dump(accuracy, f)\n",
    "\n",
    "    print(f\"✅ Model trained and saved! Accuracy: {accuracy:.2f}\")\n",
    "else:\n",
    "    print(\"⚠️ No data found for training.\")\n"
   ]
  }
 ],
 "metadata": {
  "kernelspec": {
   "display_name": "env",
   "language": "python",
   "name": "python3"
  },
  "language_info": {
   "codemirror_mode": {
    "name": "ipython",
    "version": 3
   },
   "file_extension": ".py",
   "mimetype": "text/x-python",
   "name": "python",
   "nbconvert_exporter": "python",
   "pygments_lexer": "ipython3",
   "version": "3.10.9"
  }
 },
 "nbformat": 4,
 "nbformat_minor": 5
}
